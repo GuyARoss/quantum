{
 "cells": [
  {
   "cell_type": "markdown",
   "metadata": {},
   "source": [
    "# Simple Experiments\n",
    "\n",
    "Simple toy experiments that were too small to put in their own notebooks"
   ]
  },
  {
   "cell_type": "code",
   "execution_count": 2,
   "metadata": {},
   "outputs": [],
   "source": [
    "from braket.circuits import Circuit\n",
    "from braket.devices import LocalSimulator"
   ]
  },
  {
   "cell_type": "markdown",
   "metadata": {},
   "source": [
    "## Measuring Bell States"
   ]
  },
  {
   "cell_type": "code",
   "execution_count": 3,
   "metadata": {},
   "outputs": [
    {
     "name": "stdout",
     "output_type": "stream",
     "text": [
      "Counter({'11': 512, '00': 488})\n"
     ]
    }
   ],
   "source": [
    "circ = Circuit().h(0).cnot(0,1).measure([0,1])\n",
    "result = LocalSimulator().run(circ, shots=1000).result()\n",
    "print(result.measurement_counts)  # expect ~ {'00':500,'11':500}"
   ]
  },
  {
   "cell_type": "markdown",
   "metadata": {},
   "source": [
    "## Swap-Test"
   ]
  },
  {
   "cell_type": "code",
   "execution_count": 6,
   "metadata": {},
   "outputs": [
    {
     "name": "stdout",
     "output_type": "stream",
     "text": [
      "Swap-test ancilla counts: Counter({'0': 753, '1': 247})\n"
     ]
    }
   ],
   "source": [
    "swap_test = Circuit().h(0).h(2).cswap(control=0, target1=1, target2=2).h(0).measure([0])\n",
    "\n",
    "device = LocalSimulator()\n",
    "result = device.run(swap_test, shots=1000).result()\n",
    "print(\"Swap-test ancilla counts:\", result.measurement_counts)"
   ]
  },
  {
   "cell_type": "code",
   "execution_count": null,
   "metadata": {},
   "outputs": [],
   "source": []
  }
 ],
 "metadata": {
  "kernelspec": {
   "display_name": "venv",
   "language": "python",
   "name": "python3"
  },
  "language_info": {
   "codemirror_mode": {
    "name": "ipython",
    "version": 3
   },
   "file_extension": ".py",
   "mimetype": "text/x-python",
   "name": "python",
   "nbconvert_exporter": "python",
   "pygments_lexer": "ipython3",
   "version": "3.13.0"
  }
 },
 "nbformat": 4,
 "nbformat_minor": 2
}
