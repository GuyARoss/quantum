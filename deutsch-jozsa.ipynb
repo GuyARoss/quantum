{
 "cells": [
  {
   "cell_type": "markdown",
   "metadata": {},
   "source": [
    "# 2 Qubit Deutsch Jozsa Algorithm"
   ]
  },
  {
   "cell_type": "code",
   "execution_count": 5,
   "metadata": {},
   "outputs": [],
   "source": [
    "from braket.circuits import Circuit\n",
    "from braket.devices import LocalSimulator"
   ]
  },
  {
   "cell_type": "code",
   "execution_count": 6,
   "metadata": {},
   "outputs": [],
   "source": [
    "def deutsch_jozsa_circuit(oracle):\n",
    "    circ = Circuit().h(0).h(1).x(2).h(2)\n",
    "    circ = oracle(circ).h(0).h(1)\n",
    "    \n",
    "    return circ.measure([0, 1])"
   ]
  },
  {
   "cell_type": "code",
   "execution_count": 7,
   "metadata": {},
   "outputs": [],
   "source": [
    "def oracle_constant(c): return c\n",
    "\n",
    "def oracle_balanced(c):\n",
    "    c.cnot(0, 2)\n",
    "    c.cnot(1, 2)\n",
    "    return c"
   ]
  },
  {
   "cell_type": "code",
   "execution_count": 8,
   "metadata": {},
   "outputs": [
    {
     "name": "stdout",
     "output_type": "stream",
     "text": [
      "constant: Counter({'00': 1000})\n",
      "balanced: Counter({'11': 1000})\n"
     ]
    }
   ],
   "source": [
    "device = LocalSimulator()\n",
    "shots = 1000\n",
    "\n",
    "for name, oracle in [(\"constant\", oracle_constant), (\"balanced\", oracle_balanced)]:\n",
    "    circ = deutsch_jozsa_circuit(oracle)\n",
    "    result = device.run(circ, shots=shots).result()\n",
    "    print(f\"{name}: {result.measurement_counts}\")"
   ]
  },
  {
   "cell_type": "code",
   "execution_count": null,
   "metadata": {},
   "outputs": [],
   "source": []
  }
 ],
 "metadata": {
  "kernelspec": {
   "display_name": "venv",
   "language": "python",
   "name": "python3"
  },
  "language_info": {
   "codemirror_mode": {
    "name": "ipython",
    "version": 3
   },
   "file_extension": ".py",
   "mimetype": "text/x-python",
   "name": "python",
   "nbconvert_exporter": "python",
   "pygments_lexer": "ipython3",
   "version": "3.13.0"
  }
 },
 "nbformat": 4,
 "nbformat_minor": 2
}
