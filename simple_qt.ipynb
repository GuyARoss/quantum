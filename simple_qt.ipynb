{
 "cells": [
  {
   "cell_type": "markdown",
   "id": "398984de",
   "metadata": {},
   "source": [
    "# Simple Quantum Teleportation\n",
    "\n",
    "Quantum Teleportation using the AWS bracket local simulator. This approach uses deferred measurement to calculate the fidelity of transportation at the end."
   ]
  },
  {
   "cell_type": "code",
   "execution_count": 1,
   "id": "29964a60",
   "metadata": {},
   "outputs": [],
   "source": [
    "from braket.circuits import Circuit\n",
    "from braket.devices import LocalSimulator"
   ]
  },
  {
   "cell_type": "code",
   "execution_count": 2,
   "id": "2fd66cdf",
   "metadata": {},
   "outputs": [],
   "source": [
    "'''\n",
    "teleport does something like so, e.g\n",
    "init = |0>\n",
    "\n",
    "1 = |0>\n",
    "2 = |0>\n",
    "\n",
    "# after bell-pair: \n",
    "1 == 2     ← they share (|00>+|11>)/√2\n",
    "\n",
    "0 = |0>\n",
    "1 = *      ← still entangled with 2\n",
    "\n",
    "\n",
    "1 == 2     ← still entangled\n",
    "\n",
    "# after corrections:\n",
    "2 = |0>    ← teleported state, so q2 == q0_original\n",
    "'''\n",
    "def teleport(init='0'):\n",
    "    circuit = Circuit()\n",
    "    \n",
    "    if init == '1':\n",
    "        # we start at |0> so we flip to |1>\n",
    "        circuit.x(0)\n",
    "\n",
    "    # bell pair 1 & 2\n",
    "    circuit.h(1)\n",
    "    circuit.cnot(1, 2)\n",
    "    \n",
    "    # bell basis measurement 0 & 1    \n",
    "    circuit.cnot(0, 1)\n",
    "    circuit.h(0)\n",
    "    \n",
    "    # control x from qubit 1 to 2\n",
    "    circuit.cnot(1, 2)\n",
    "\n",
    "    # control z from qubit 0 to 2\n",
    "    circuit.cz(0, 2)\n",
    "    \n",
    "    # measure it\n",
    "    circuit.measure([2])\n",
    "    return circuit"
   ]
  },
  {
   "cell_type": "code",
   "execution_count": 3,
   "id": "b07d869f",
   "metadata": {},
   "outputs": [],
   "source": [
    "device = LocalSimulator()\n",
    "shots = 1000"
   ]
  },
  {
   "cell_type": "code",
   "execution_count": null,
   "id": "79617d10",
   "metadata": {},
   "outputs": [
    {
     "name": "stdout",
     "output_type": "stream",
     "text": [
      "Teleport |0> → qubit 2: fidelity = 100.0%  counts = Counter({'0': 1000})\n",
      "Teleport |1> → qubit 2: fidelity = 100.0%  counts = Counter({'1': 1000})\n"
     ]
    }
   ],
   "source": [
    "# teleport |0> & |1> onto qubit 2\n",
    "# on a noiseless sim we expect to see perfect fidelity\n",
    "for state in ['0', '1']:\n",
    "    circ = teleport(state)\n",
    "    result = device.run(circ, shots=shots).result()\n",
    "    \n",
    "    counts = result.measurement_counts\n",
    "\n",
    "    success = counts.get(state)\n",
    "    fidelity = success / shots\n",
    "    \n",
    "    print(f\"Teleport |{state}> → qubit 2: fidelity = {fidelity*100:.1f}%  counts = {counts}\")"
   ]
  },
  {
   "cell_type": "code",
   "execution_count": null,
   "id": "19583e9f",
   "metadata": {},
   "outputs": [],
   "source": []
  }
 ],
 "metadata": {
  "kernelspec": {
   "display_name": "venv",
   "language": "python",
   "name": "python3"
  },
  "language_info": {
   "codemirror_mode": {
    "name": "ipython",
    "version": 3
   },
   "file_extension": ".py",
   "mimetype": "text/x-python",
   "name": "python",
   "nbconvert_exporter": "python",
   "pygments_lexer": "ipython3",
   "version": "3.12.3"
  }
 },
 "nbformat": 4,
 "nbformat_minor": 5
}
